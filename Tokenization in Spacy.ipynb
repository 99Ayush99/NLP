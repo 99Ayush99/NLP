{
 "cells": [
  {
   "cell_type": "code",
   "execution_count": 1,
   "id": "5bf1658c",
   "metadata": {},
   "outputs": [],
   "source": [
    "import spacy"
   ]
  },
  {
   "cell_type": "markdown",
   "id": "5e09af12",
   "metadata": {},
   "source": [
    "# Here I want to use spacy to get all the URL's from the text.Spacy is used for tokenization both sentence and word. It also gives us functions to identify whether a token is word,currency,number,url,email,etc."
   ]
  },
  {
   "cell_type": "code",
   "execution_count": 7,
   "id": "288dc114",
   "metadata": {},
   "outputs": [],
   "source": [
    "nlp = spacy.load(\"en_core_web_sm\")\n",
    "text='''\n",
    "Look for data to help you address the question. Governments are good\n",
    "sources because data from public research is often freely available. Good\n",
    "places to start include http://www.data.gov/, and http://www.science.\n",
    "gov/, and in the United Kingdom, http://data.gov.uk/.\n",
    "Two of my favorite data sets are the General Social Survey at http://www3.norc.org/gss+website/, \n",
    "and the European Social Survey at http://www.europeansocialsurvey.org/.\n",
    "'''\n",
    "doc = nlp(text)"
   ]
  },
  {
   "cell_type": "code",
   "execution_count": 8,
   "id": "0d30003a",
   "metadata": {
    "scrolled": false
   },
   "outputs": [
    {
     "name": "stdout",
     "output_type": "stream",
     "text": [
      "\n",
      "Look for data to help you address the question.\n",
      "Governments are good\n",
      "sources because data from public research is often freely available.\n",
      "Good\n",
      "places to start include http://www.data.gov/, and http://www.science.\n",
      "\n",
      "gov/, and in the United Kingdom, http://data.gov.uk/.\n",
      "Two of my favorite data sets are the General Social Survey at http://www3.norc.org/gss+website/, \n",
      "and the European Social Survey at http://www.europeansocialsurvey.org/.\n",
      "\n"
     ]
    }
   ],
   "source": [
    "for sentence in doc.sents:\n",
    "    print(sentence)\n",
    "    "
   ]
  },
  {
   "cell_type": "code",
   "execution_count": 12,
   "id": "eeb62311",
   "metadata": {},
   "outputs": [
    {
     "name": "stdout",
     "output_type": "stream",
     "text": [
      "\n",
      "\n",
      "Look\n",
      "for\n",
      "data\n",
      "to\n",
      "help\n",
      "you\n",
      "address\n",
      "the\n",
      "question\n",
      ".\n",
      "Governments\n",
      "are\n",
      "good\n",
      "\n",
      "\n",
      "sources\n",
      "because\n",
      "data\n",
      "from\n",
      "public\n",
      "research\n",
      "is\n",
      "often\n",
      "freely\n",
      "available\n",
      ".\n",
      "Good\n",
      "\n",
      "\n",
      "places\n",
      "to\n",
      "start\n",
      "include\n",
      "http://www.data.gov/\n",
      ",\n",
      "and\n",
      "http://www.science\n",
      ".\n",
      "\n",
      "\n",
      "gov/\n",
      ",\n",
      "and\n",
      "in\n",
      "the\n",
      "United\n",
      "Kingdom\n",
      ",\n",
      "http://data.gov.uk/.\n",
      "\n",
      "\n",
      "Two\n",
      "of\n",
      "my\n",
      "favorite\n",
      "data\n",
      "sets\n",
      "are\n",
      "the\n",
      "General\n",
      "Social\n",
      "Survey\n",
      "at\n",
      "http://www3.norc.org/gss+website/\n",
      ",\n",
      "\n",
      "\n",
      "and\n",
      "the\n",
      "European\n",
      "Social\n",
      "Survey\n",
      "at\n",
      "http://www.europeansocialsurvey.org/.\n",
      "\n",
      "\n"
     ]
    }
   ],
   "source": [
    "for token in doc:\n",
    "    print(token)"
   ]
  },
  {
   "cell_type": "code",
   "execution_count": 19,
   "id": "56b8622c",
   "metadata": {
    "scrolled": true
   },
   "outputs": [
    {
     "name": "stdout",
     "output_type": "stream",
     "text": [
      "[http://www.data.gov/, http://www.science, http://data.gov.uk/., http://www3.norc.org/gss+website/, http://www.europeansocialsurvey.org/.]\n"
     ]
    }
   ],
   "source": [
    "urls = []\n",
    "for token in doc:\n",
    "    if token.like_url:\n",
    "        urls.append(token)\n",
    "print(urls)"
   ]
  },
  {
   "cell_type": "markdown",
   "id": "835aa5e4",
   "metadata": {},
   "source": [
    "# Extract all money transaction from below sentence along with currency."
   ]
  },
  {
   "cell_type": "code",
   "execution_count": 20,
   "id": "321cc75b",
   "metadata": {},
   "outputs": [],
   "source": [
    "transactions = \"Tony gave two $ to Peter, Bruce gave 500 € to Steve\"\n",
    "nlp2 = spacy.load(\"en_core_web_sm\")\n",
    "doc = nlp(transactions)"
   ]
  },
  {
   "cell_type": "code",
   "execution_count": 25,
   "id": "1656a6f7",
   "metadata": {},
   "outputs": [
    {
     "ename": "TypeError",
     "evalue": "unsupported operand type(s) for +: 'spacy.tokens.token.Token' and 'spacy.tokens.token.Token'",
     "output_type": "error",
     "traceback": [
      "\u001b[0;31m---------------------------------------------------------------------------\u001b[0m",
      "\u001b[0;31mTypeError\u001b[0m                                 Traceback (most recent call last)",
      "\u001b[0;32m/var/folders/6w/jhlzr0455_d8684jx2yvr12h0000gn/T/ipykernel_27644/1151592772.py\u001b[0m in \u001b[0;36m<module>\u001b[0;34m\u001b[0m\n\u001b[1;32m      4\u001b[0m     \u001b[0;32mif\u001b[0m \u001b[0mtoken\u001b[0m\u001b[0;34m.\u001b[0m\u001b[0mis_currency\u001b[0m\u001b[0;34m:\u001b[0m\u001b[0;34m\u001b[0m\u001b[0;34m\u001b[0m\u001b[0m\n\u001b[1;32m      5\u001b[0m         \u001b[0mprev_token\u001b[0m \u001b[0;34m=\u001b[0m \u001b[0mtoken\u001b[0m\u001b[0;34m.\u001b[0m\u001b[0mi\u001b[0m \u001b[0;34m-\u001b[0m \u001b[0;36m1\u001b[0m\u001b[0;34m;\u001b[0m\u001b[0;34m\u001b[0m\u001b[0;34m\u001b[0m\u001b[0m\n\u001b[0;32m----> 6\u001b[0;31m         \u001b[0mfinal_token\u001b[0m \u001b[0;34m=\u001b[0m \u001b[0mdoc\u001b[0m\u001b[0;34m[\u001b[0m\u001b[0mprev_token\u001b[0m\u001b[0;34m]\u001b[0m\u001b[0;34m+\u001b[0m\u001b[0mtoken\u001b[0m\u001b[0;34m\u001b[0m\u001b[0;34m\u001b[0m\u001b[0m\n\u001b[0m\u001b[1;32m      7\u001b[0m         \u001b[0mmoney\u001b[0m\u001b[0;34m.\u001b[0m\u001b[0mappend\u001b[0m\u001b[0;34m(\u001b[0m\u001b[0mfinal_token\u001b[0m\u001b[0;34m)\u001b[0m\u001b[0;34m\u001b[0m\u001b[0;34m\u001b[0m\u001b[0m\n\u001b[1;32m      8\u001b[0m \u001b[0mprint\u001b[0m\u001b[0;34m(\u001b[0m\u001b[0mmoney\u001b[0m\u001b[0;34m)\u001b[0m\u001b[0;34m\u001b[0m\u001b[0;34m\u001b[0m\u001b[0m\n",
      "\u001b[0;31mTypeError\u001b[0m: unsupported operand type(s) for +: 'spacy.tokens.token.Token' and 'spacy.tokens.token.Token'"
     ]
    }
   ],
   "source": [
    "money = []\n",
    "final_token = \"\"\n",
    "for token in doc:\n",
    "    if token.like_num and doc[token.i+1].is_currency:\n",
    "        print(token.text,)"
   ]
  }
 ],
 "metadata": {
  "kernelspec": {
   "display_name": "Python 3 (ipykernel)",
   "language": "python",
   "name": "python3"
  },
  "language_info": {
   "codemirror_mode": {
    "name": "ipython",
    "version": 3
   },
   "file_extension": ".py",
   "mimetype": "text/x-python",
   "name": "python",
   "nbconvert_exporter": "python",
   "pygments_lexer": "ipython3",
   "version": "3.9.13"
  }
 },
 "nbformat": 4,
 "nbformat_minor": 5
}
