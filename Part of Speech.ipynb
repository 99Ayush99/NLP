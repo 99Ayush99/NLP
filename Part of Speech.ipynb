{
 "cells": [
  {
   "cell_type": "code",
   "execution_count": 16,
   "id": "3a908c85",
   "metadata": {},
   "outputs": [],
   "source": [
    "import spacy\n",
    "nlp = spacy.load(\"en_core_web_sm\")\n",
    "with open(\"news_story.txt\") as file:\n",
    "    txt = file.read().replace('\\n',' ')\n"
   ]
  },
  {
   "cell_type": "markdown",
   "id": "df2b0987",
   "metadata": {},
   "source": [
    "Now we will Extract all the Nouns from this text file\"news_story.txt\" and store it in nouns variable."
   ]
  },
  {
   "cell_type": "code",
   "execution_count": 31,
   "id": "a76c81a3",
   "metadata": {},
   "outputs": [],
   "source": [
    "doc = nlp(txt)\n",
    "nouns=[]\n",
    "for tokens in doc:\n",
    "    if tokens.pos_ in [\"NOUN\"]:\n",
    "        nouns.append(tokens.text)\n",
    "    "
   ]
  },
  {
   "cell_type": "markdown",
   "id": "2709256a",
   "metadata": {},
   "source": [
    "Now we will collect all numerals in the text file."
   ]
  },
  {
   "cell_type": "code",
   "execution_count": 34,
   "id": "6b26e395",
   "metadata": {},
   "outputs": [],
   "source": [
    "numbers = []\n",
    "for tokens in doc:\n",
    "    if tokens.pos_ in [\"NUM\"]:\n",
    "        numbers.append(tokens.text)"
   ]
  },
  {
   "cell_type": "code",
   "execution_count": 27,
   "id": "1a9ea893",
   "metadata": {},
   "outputs": [
    {
     "name": "stdout",
     "output_type": "stream",
     "text": [
      "NOUN | 96\n",
      "VERB | 27\n",
      "ADV | 15\n",
      "ADP | 39\n",
      "PROPN | 16\n",
      "PUNCT | 32\n",
      "DET | 34\n",
      "PRON | 4\n",
      "AUX | 13\n",
      "CCONJ | 10\n",
      "ADJ | 23\n",
      "SPACE | 7\n",
      "NUM | 19\n",
      "PART | 4\n",
      "SCONJ | 8\n",
      "X | 1\n"
     ]
    }
   ],
   "source": [
    "count = doc.count_by(spacy.attrs.POS)\n",
    "for k,v in count.items():\n",
    "    print(doc.vocab[k].text, \"|\",v)"
   ]
  },
  {
   "cell_type": "code",
   "execution_count": 33,
   "id": "706ed6d3",
   "metadata": {},
   "outputs": [
    {
     "data": {
      "text/plain": [
       "96"
      ]
     },
     "execution_count": 33,
     "metadata": {},
     "output_type": "execute_result"
    }
   ],
   "source": [
    "len(nouns)"
   ]
  },
  {
   "cell_type": "code",
   "execution_count": 35,
   "id": "cb1d7b03",
   "metadata": {},
   "outputs": [
    {
     "data": {
      "text/plain": [
       "19"
      ]
     },
     "execution_count": 35,
     "metadata": {},
     "output_type": "execute_result"
    }
   ],
   "source": [
    "len(numbers)"
   ]
  }
 ],
 "metadata": {
  "kernelspec": {
   "display_name": "Python 3 (ipykernel)",
   "language": "python",
   "name": "python3"
  },
  "language_info": {
   "codemirror_mode": {
    "name": "ipython",
    "version": 3
   },
   "file_extension": ".py",
   "mimetype": "text/x-python",
   "name": "python",
   "nbconvert_exporter": "python",
   "pygments_lexer": "ipython3",
   "version": "3.9.13"
  }
 },
 "nbformat": 4,
 "nbformat_minor": 5
}
